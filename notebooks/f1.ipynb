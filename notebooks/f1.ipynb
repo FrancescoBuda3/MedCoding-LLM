{
 "cells": [
  {
   "cell_type": "code",
   "execution_count": 1,
   "metadata": {},
   "outputs": [],
   "source": [
    "import pandas as pd\n",
    "import numpy as np\n",
    "import json"
   ]
  },
  {
   "cell_type": "code",
   "execution_count": null,
   "metadata": {},
   "outputs": [],
   "source": [
    "DATA_DIR = \"./../data/\"\n",
    "OUTPUT_DIR = \"./../output/datasets\""
   ]
  },
  {
   "cell_type": "code",
   "execution_count": null,
   "metadata": {},
   "outputs": [],
   "source": [
    "df = []\n",
    "with open(OUTPUT_DIR + \"defSelected.jsonl\", 'r') as f:\n",
    "    for line in f:\n",
    "        df.append(json.loads(line))\n",
    "\n",
    "df = pd.DataFrame(df)"
   ]
  },
  {
   "cell_type": "code",
   "execution_count": 8,
   "metadata": {},
   "outputs": [],
   "source": [
    "icd10_df = pd.read_feather(DATA_DIR + \"mimiciv_icd10.feather\")"
   ]
  },
  {
   "cell_type": "code",
   "execution_count": 7,
   "metadata": {},
   "outputs": [
    {
     "data": {
      "text/html": [
       "<div>\n",
       "<style scoped>\n",
       "    .dataframe tbody tr th:only-of-type {\n",
       "        vertical-align: middle;\n",
       "    }\n",
       "\n",
       "    .dataframe tbody tr th {\n",
       "        vertical-align: top;\n",
       "    }\n",
       "\n",
       "    .dataframe thead th {\n",
       "        text-align: right;\n",
       "    }\n",
       "</style>\n",
       "<table border=\"1\" class=\"dataframe\">\n",
       "  <thead>\n",
       "    <tr style=\"text-align: right;\">\n",
       "      <th></th>\n",
       "      <th>note_id</th>\n",
       "      <th>selected</th>\n",
       "    </tr>\n",
       "  </thead>\n",
       "  <tbody>\n",
       "    <tr>\n",
       "      <th>0</th>\n",
       "      <td>10052875-DS-13</td>\n",
       "      <td>[Thoracic aortic ectasia, Anal fistula, Anemia...</td>\n",
       "    </tr>\n",
       "    <tr>\n",
       "      <th>1</th>\n",
       "      <td>10788434-DS-13</td>\n",
       "      <td>[Calculus of gallbladder without cholecystitis...</td>\n",
       "    </tr>\n",
       "    <tr>\n",
       "      <th>2</th>\n",
       "      <td>13211200-DS-22</td>\n",
       "      <td>[Peritoneal abscess, Hyperlipidemia unspecifie...</td>\n",
       "    </tr>\n",
       "    <tr>\n",
       "      <th>3</th>\n",
       "      <td>11819384-DS-21</td>\n",
       "      <td>[Chronic diastolic (congestive) heart failure,...</td>\n",
       "    </tr>\n",
       "    <tr>\n",
       "      <th>4</th>\n",
       "      <td>11992544-DS-10</td>\n",
       "      <td>[Dementia in other diseases classified elsewhe...</td>\n",
       "    </tr>\n",
       "    <tr>\n",
       "      <th>...</th>\n",
       "      <td>...</td>\n",
       "      <td>...</td>\n",
       "    </tr>\n",
       "    <tr>\n",
       "      <th>95</th>\n",
       "      <td>13501710-DS-6</td>\n",
       "      <td>[Solitary pulmonary nodule, Gastro-esophageal ...</td>\n",
       "    </tr>\n",
       "    <tr>\n",
       "      <th>96</th>\n",
       "      <td>15776313-DS-14</td>\n",
       "      <td>[Unspecified asthma uncomplicated, Chronic kid...</td>\n",
       "    </tr>\n",
       "    <tr>\n",
       "      <th>97</th>\n",
       "      <td>13031383-DS-20</td>\n",
       "      <td>[Chronic diastolic (congestive) heart failure,...</td>\n",
       "    </tr>\n",
       "    <tr>\n",
       "      <th>98</th>\n",
       "      <td>14113167-DS-2</td>\n",
       "      <td>[Gastro-esophageal reflux disease without esop...</td>\n",
       "    </tr>\n",
       "    <tr>\n",
       "      <th>99</th>\n",
       "      <td>15186614-DS-11</td>\n",
       "      <td>[Do not resuscitate, Chronic kidney disease st...</td>\n",
       "    </tr>\n",
       "  </tbody>\n",
       "</table>\n",
       "<p>100 rows × 2 columns</p>\n",
       "</div>"
      ],
      "text/plain": [
       "           note_id                                           selected\n",
       "0   10052875-DS-13  [Thoracic aortic ectasia, Anal fistula, Anemia...\n",
       "1   10788434-DS-13  [Calculus of gallbladder without cholecystitis...\n",
       "2   13211200-DS-22  [Peritoneal abscess, Hyperlipidemia unspecifie...\n",
       "3   11819384-DS-21  [Chronic diastolic (congestive) heart failure,...\n",
       "4   11992544-DS-10  [Dementia in other diseases classified elsewhe...\n",
       "..             ...                                                ...\n",
       "95   13501710-DS-6  [Solitary pulmonary nodule, Gastro-esophageal ...\n",
       "96  15776313-DS-14  [Unspecified asthma uncomplicated, Chronic kid...\n",
       "97  13031383-DS-20  [Chronic diastolic (congestive) heart failure,...\n",
       "98   14113167-DS-2  [Gastro-esophageal reflux disease without esop...\n",
       "99  15186614-DS-11  [Do not resuscitate, Chronic kidney disease st...\n",
       "\n",
       "[100 rows x 2 columns]"
      ]
     },
     "execution_count": 7,
     "metadata": {},
     "output_type": "execute_result"
    }
   ],
   "source": [
    "df"
   ]
  },
  {
   "cell_type": "code",
   "execution_count": 11,
   "metadata": {},
   "outputs": [],
   "source": [
    "data = df.merge(icd10_df, how=\"inner\", on=\"note_id\")[[\"note_id\", \"icd10_diag_titles\", \"selected\"]]"
   ]
  },
  {
   "cell_type": "code",
   "execution_count": 19,
   "metadata": {},
   "outputs": [
    {
     "name": "stdout",
     "output_type": "stream",
     "text": [
      "Collecting evaluate\n",
      "  Downloading evaluate-0.4.3-py3-none-any.whl (84 kB)\n",
      "     ---------------------------------------- 84.0/84.0 kB 4.9 MB/s eta 0:00:00\n",
      "Requirement already satisfied: multiprocess in c:\\users\\buda2\\anaconda3\\lib\\site-packages (from evaluate) (0.70.16)\n",
      "Requirement already satisfied: xxhash in c:\\users\\buda2\\anaconda3\\lib\\site-packages (from evaluate) (3.4.1)\n",
      "Requirement already satisfied: dill in c:\\users\\buda2\\anaconda3\\lib\\site-packages (from evaluate) (0.3.8)\n",
      "Requirement already satisfied: requests>=2.19.0 in c:\\users\\buda2\\anaconda3\\lib\\site-packages (from evaluate) (2.32.3)\n",
      "Requirement already satisfied: datasets>=2.0.0 in c:\\users\\buda2\\anaconda3\\lib\\site-packages (from evaluate) (2.20.0)\n",
      "Requirement already satisfied: pandas in c:\\users\\buda2\\anaconda3\\lib\\site-packages (from evaluate) (1.4.4)\n",
      "Requirement already satisfied: tqdm>=4.62.1 in c:\\users\\buda2\\anaconda3\\lib\\site-packages (from evaluate) (4.62.3)\n",
      "Requirement already satisfied: fsspec[http]>=2021.05.0 in c:\\users\\buda2\\anaconda3\\lib\\site-packages (from evaluate) (2024.5.0)\n",
      "Requirement already satisfied: packaging in c:\\users\\buda2\\anaconda3\\lib\\site-packages (from evaluate) (21.3)\n",
      "Requirement already satisfied: huggingface-hub>=0.7.0 in c:\\users\\buda2\\anaconda3\\lib\\site-packages (from evaluate) (0.24.5)\n",
      "Requirement already satisfied: numpy>=1.17 in c:\\users\\buda2\\anaconda3\\lib\\site-packages (from evaluate) (1.21.5)\n",
      "Requirement already satisfied: pyarrow-hotfix in c:\\users\\buda2\\anaconda3\\lib\\site-packages (from datasets>=2.0.0->evaluate) (0.6)\n",
      "Collecting tqdm>=4.62.1\n",
      "  Downloading tqdm-4.67.0-py3-none-any.whl (78 kB)\n",
      "     ---------------------------------------- 78.6/78.6 kB 2.2 MB/s eta 0:00:00\n",
      "Requirement already satisfied: filelock in c:\\users\\buda2\\anaconda3\\lib\\site-packages (from datasets>=2.0.0->evaluate) (3.6.0)\n",
      "Requirement already satisfied: pyyaml>=5.1 in c:\\users\\buda2\\anaconda3\\lib\\site-packages (from datasets>=2.0.0->evaluate) (6.0)\n",
      "Requirement already satisfied: aiohttp in c:\\users\\buda2\\anaconda3\\lib\\site-packages (from datasets>=2.0.0->evaluate) (3.10.1)\n",
      "Requirement already satisfied: pyarrow>=15.0.0 in c:\\users\\buda2\\anaconda3\\lib\\site-packages (from datasets>=2.0.0->evaluate) (17.0.0)\n",
      "Requirement already satisfied: typing-extensions>=3.7.4.3 in c:\\users\\buda2\\anaconda3\\lib\\site-packages (from huggingface-hub>=0.7.0->evaluate) (4.12.2)\n",
      "Requirement already satisfied: pyparsing!=3.0.5,>=2.0.2 in c:\\users\\buda2\\anaconda3\\lib\\site-packages (from packaging->evaluate) (3.0.9)\n",
      "Requirement already satisfied: charset-normalizer<4,>=2 in c:\\users\\buda2\\anaconda3\\lib\\site-packages (from requests>=2.19.0->evaluate) (2.0.4)\n",
      "Requirement already satisfied: certifi>=2017.4.17 in c:\\users\\buda2\\anaconda3\\lib\\site-packages (from requests>=2.19.0->evaluate) (2024.7.4)\n",
      "Requirement already satisfied: urllib3<3,>=1.21.1 in c:\\users\\buda2\\anaconda3\\lib\\site-packages (from requests>=2.19.0->evaluate) (1.26.11)\n",
      "Requirement already satisfied: idna<4,>=2.5 in c:\\users\\buda2\\anaconda3\\lib\\site-packages (from requests>=2.19.0->evaluate) (3.3)\n",
      "Requirement already satisfied: colorama in c:\\users\\buda2\\anaconda3\\lib\\site-packages (from tqdm>=4.62.1->evaluate) (0.4.6)\n",
      "Requirement already satisfied: pytz>=2020.1 in c:\\users\\buda2\\anaconda3\\lib\\site-packages (from pandas->evaluate) (2022.1)\n",
      "Requirement already satisfied: python-dateutil>=2.8.1 in c:\\users\\buda2\\anaconda3\\lib\\site-packages (from pandas->evaluate) (2.8.2)\n",
      "Requirement already satisfied: attrs>=17.3.0 in c:\\users\\buda2\\anaconda3\\lib\\site-packages (from aiohttp->datasets>=2.0.0->evaluate) (21.4.0)\n",
      "Requirement already satisfied: frozenlist>=1.1.1 in c:\\users\\buda2\\anaconda3\\lib\\site-packages (from aiohttp->datasets>=2.0.0->evaluate) (1.4.1)\n",
      "Requirement already satisfied: async-timeout<5.0,>=4.0 in c:\\users\\buda2\\anaconda3\\lib\\site-packages (from aiohttp->datasets>=2.0.0->evaluate) (4.0.3)\n",
      "Requirement already satisfied: aiosignal>=1.1.2 in c:\\users\\buda2\\anaconda3\\lib\\site-packages (from aiohttp->datasets>=2.0.0->evaluate) (1.3.1)\n",
      "Requirement already satisfied: yarl<2.0,>=1.0 in c:\\users\\buda2\\anaconda3\\lib\\site-packages (from aiohttp->datasets>=2.0.0->evaluate) (1.9.4)\n",
      "Requirement already satisfied: multidict<7.0,>=4.5 in c:\\users\\buda2\\anaconda3\\lib\\site-packages (from aiohttp->datasets>=2.0.0->evaluate) (6.0.5)\n",
      "Requirement already satisfied: aiohappyeyeballs>=2.3.0 in c:\\users\\buda2\\anaconda3\\lib\\site-packages (from aiohttp->datasets>=2.0.0->evaluate) (2.3.4)\n",
      "Requirement already satisfied: six>=1.5 in c:\\users\\buda2\\anaconda3\\lib\\site-packages (from python-dateutil>=2.8.1->pandas->evaluate) (1.16.0)\n",
      "Installing collected packages: tqdm, evaluate\n",
      "  Attempting uninstall: tqdm\n",
      "    Found existing installation: tqdm 4.62.3\n",
      "    Uninstalling tqdm-4.62.3:\n",
      "      Successfully uninstalled tqdm-4.62.3\n",
      "Successfully installed evaluate-0.4.3 tqdm-4.67.0\n"
     ]
    }
   ],
   "source": [
    "!pip install evaluate"
   ]
  },
  {
   "cell_type": "code",
   "execution_count": 36,
   "metadata": {},
   "outputs": [],
   "source": [
    "import evaluate\n",
    "from sklearn.preprocessing import MultiLabelBinarizer\n",
    "from sklearn.metrics import f1_score, precision_score, recall_score"
   ]
  },
  {
   "cell_type": "code",
   "execution_count": 39,
   "metadata": {},
   "outputs": [
    {
     "name": "stdout",
     "output_type": "stream",
     "text": [
      "F1 Macro: 0.10847914912796289\n",
      "Precision Macro: 0.10263686241351601\n",
      "Recall Macro: 0.13956538127126364\n",
      "F1 Micro: 0.212998361551065\n",
      "Precision Micro: 0.17873510540788268\n",
      "Recall Micro: 0.2635135135135135\n"
     ]
    }
   ],
   "source": [
    "# Convertiamo le stringhe in etichette numeriche\n",
    "# 1. Troviamo tutte le etichette uniche\n",
    "all_labels = set(label for sublist in data['icd10_diag_titles'].tolist() + data['selected'].tolist() for label in sublist)\n",
    "\n",
    "# 2. Usare un binarizzatore multi-etichetta di scikit-learn per trasformare le stringhe in valori numerici\n",
    "mlb = MultiLabelBinarizer(classes=list(all_labels))\n",
    "true_labels_bin = mlb.fit_transform(data['icd10_diag_titles'])\n",
    "predicted_labels_bin = mlb.transform(data['selected'])\n",
    "\n",
    "# Inizializza la metrica F1 con Hugging Face Evaluate\n",
    "f1_metric = evaluate.load(\"f1\")\n",
    "\n",
    "# Calcola la F1 macro e micro con sklearn\n",
    "f1_macro = f1_score(true_labels_bin, predicted_labels_bin, average=\"macro\", zero_division=0)\n",
    "f1_micro = f1_score(true_labels_bin, predicted_labels_bin, average=\"micro\", zero_division=0)\n",
    "precision_macro = precision_score(true_labels_bin, predicted_labels_bin, average=\"macro\", zero_division=0)\n",
    "recall_macro = recall_score(true_labels_bin, predicted_labels_bin, average=\"macro\", zero_division=0)\n",
    "precision_micro = precision_score(true_labels_bin, predicted_labels_bin, average=\"micro\", zero_division=0)\n",
    "recall_micro = recall_score(true_labels_bin, predicted_labels_bin, average=\"micro\", zero_division=0)\n",
    "\n",
    "print(\"F1 Macro:\", f1_macro)\n",
    "print(\"Precision Macro:\", precision_macro)\n",
    "print(\"Recall Macro:\", recall_macro)\n",
    "print(\"F1 Micro:\", f1_micro)\n",
    "print(\"Precision Micro:\", precision_micro)\n",
    "print(\"Recall Micro:\", recall_micro)\n"
   ]
  }
 ],
 "metadata": {
  "kernelspec": {
   "display_name": "base",
   "language": "python",
   "name": "python3"
  },
  "language_info": {
   "codemirror_mode": {
    "name": "ipython",
    "version": 3
   },
   "file_extension": ".py",
   "mimetype": "text/x-python",
   "name": "python",
   "nbconvert_exporter": "python",
   "pygments_lexer": "ipython3",
   "version": "3.9.13"
  }
 },
 "nbformat": 4,
 "nbformat_minor": 2
}
